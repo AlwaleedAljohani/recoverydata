{
 "cells": [
  {
   "cell_type": "code",
   "execution_count": 7,
   "id": "5ec61e5c-de31-4327-a909-c5508de03569",
   "metadata": {},
   "outputs": [
    {
     "name": "stdout",
     "output_type": "stream",
     "text": [
      "YES! we match!\n"
     ]
    }
   ],
   "source": [
    "import re\n",
    "sentence= 'Regular expression is a sequence of character(s) mainly used to find and replace patterns in a string or file'\n",
    "start_word= 'Regular'\n",
    "end_word= 'file'\n",
    "x=re.search(\"^\"+start_word+\".*file$\",sentence)\n",
    "if x:\n",
    "    print(\"YES! we match!\")\n",
    "else: print(\"No\")"
   ]
  },
  {
   "cell_type": "code",
   "execution_count": 32,
   "id": "cbc5bdb1-2da9-4b46-aa74-d3589eeff805",
   "metadata": {},
   "outputs": [
    {
     "ename": "AttributeError",
     "evalue": "'RegexReplacer' object has no attribute 'patterns'",
     "output_type": "error",
     "traceback": [
      "\u001b[1;31m---------------------------------------------------------------------------\u001b[0m",
      "\u001b[1;31mAttributeError\u001b[0m                            Traceback (most recent call last)",
      "\u001b[1;32m<ipython-input-32-d697a7aa2527>\u001b[0m in \u001b[0;36m<module>\u001b[1;34m\u001b[0m\n\u001b[0;32m     22\u001b[0m \u001b[0mtext\u001b[0m\u001b[1;33m=\u001b[0m\u001b[1;34m\"We'll see how to replace words using regular expressions such doesn't, can’t and so on\"\u001b[0m\u001b[1;33m\u001b[0m\u001b[1;33m\u001b[0m\u001b[0m\n\u001b[0;32m     23\u001b[0m \u001b[0mrep\u001b[0m \u001b[1;33m=\u001b[0m \u001b[0mRegexReplacer\u001b[0m\u001b[1;33m(\u001b[0m\u001b[1;33m)\u001b[0m\u001b[1;33m\u001b[0m\u001b[1;33m\u001b[0m\u001b[0m\n\u001b[1;32m---> 24\u001b[1;33m \u001b[0mprint\u001b[0m\u001b[1;33m(\u001b[0m\u001b[0mrep\u001b[0m\u001b[1;33m.\u001b[0m\u001b[0mreplace\u001b[0m\u001b[1;33m(\u001b[0m\u001b[0mtext\u001b[0m\u001b[1;33m)\u001b[0m\u001b[1;33m)\u001b[0m\u001b[1;33m\u001b[0m\u001b[1;33m\u001b[0m\u001b[0m\n\u001b[0m",
      "\u001b[1;32m<ipython-input-32-d697a7aa2527>\u001b[0m in \u001b[0;36mreplace\u001b[1;34m(self, text)\u001b[0m\n\u001b[0;32m     16\u001b[0m     \u001b[1;32mdef\u001b[0m \u001b[0mreplace\u001b[0m\u001b[1;33m(\u001b[0m\u001b[0mself\u001b[0m\u001b[1;33m,\u001b[0m \u001b[0mtext\u001b[0m\u001b[1;33m)\u001b[0m\u001b[1;33m:\u001b[0m\u001b[1;33m\u001b[0m\u001b[1;33m\u001b[0m\u001b[0m\n\u001b[0;32m     17\u001b[0m         \u001b[0ms\u001b[0m \u001b[1;33m=\u001b[0m \u001b[0mtext\u001b[0m\u001b[1;33m\u001b[0m\u001b[1;33m\u001b[0m\u001b[0m\n\u001b[1;32m---> 18\u001b[1;33m         \u001b[1;32mfor\u001b[0m \u001b[1;33m(\u001b[0m\u001b[0mpattern\u001b[0m\u001b[1;33m,\u001b[0m \u001b[0mrepl\u001b[0m\u001b[1;33m)\u001b[0m \u001b[1;32min\u001b[0m \u001b[0mself\u001b[0m\u001b[1;33m.\u001b[0m\u001b[0mpatterns\u001b[0m\u001b[1;33m:\u001b[0m\u001b[1;33m\u001b[0m\u001b[1;33m\u001b[0m\u001b[0m\n\u001b[0m\u001b[0;32m     19\u001b[0m             \u001b[1;33m(\u001b[0m\u001b[0ms\u001b[0m\u001b[1;33m,\u001b[0m \u001b[0mcount\u001b[0m\u001b[1;33m)\u001b[0m \u001b[1;33m=\u001b[0m \u001b[0mre\u001b[0m\u001b[1;33m.\u001b[0m\u001b[0msubn\u001b[0m\u001b[1;33m(\u001b[0m\u001b[0mpattern\u001b[0m\u001b[1;33m,\u001b[0m \u001b[0mrepl\u001b[0m\u001b[1;33m,\u001b[0m \u001b[0ms\u001b[0m\u001b[1;33m)\u001b[0m\u001b[1;33m\u001b[0m\u001b[1;33m\u001b[0m\u001b[0m\n\u001b[0;32m     20\u001b[0m         \u001b[1;32mreturn\u001b[0m \u001b[0ms\u001b[0m\u001b[1;33m\u001b[0m\u001b[1;33m\u001b[0m\u001b[0m\n",
      "\u001b[1;31mAttributeError\u001b[0m: 'RegexReplacer' object has no attribute 'patterns'"
     ]
    }
   ],
   "source": [
    "replacement_patterns = [ \n",
    "(r'won\\'t', 'will not'), \n",
    "(r'can\\'t', 'cannot'), \n",
    "(r'i\\'m', 'i am'), \n",
    "(r'ain\\'t', 'is not'), \n",
    "(r'(\\w+)\\'ll', '\\g<1> will'), \n",
    "(r'(\\w+)n\\'t', '\\g<1> not'), \n",
    "(r'(\\w+)\\'ve', '\\g<1> have'), \n",
    "(r'(\\w+)\\'s', '\\g<1> is'), \n",
    "(r'(\\w+)\\'re', '\\g<1> are'), \n",
    "(r'(\\w+)\\'d', '\\g<1> would')]\n",
    "\n",
    "class RegexReplacer(object):\n",
    "    def _init_(self, patterns=replacement_patterns): \n",
    "        self.patterns = [(re.compile(regex), repl) for (regex, repl) in patterns] \n",
    "    def replace(self, text): \n",
    "        s = text  \n",
    "        for (pattern, repl) in self.patterns: \n",
    "            (s, count) = re.subn(pattern, repl, s) \n",
    "        return s\n",
    "\n",
    "text=\"We'll see how to replace words using regular expressions such doesn't, can’t and so on\"\n",
    "rep = RegexReplacer()\n",
    "print(rep.replace(text))"
   ]
  },
  {
   "cell_type": "code",
   "execution_count": 42,
   "id": "c182232d-a066-47c2-996d-9fd712f5f505",
   "metadata": {},
   "outputs": [
    {
     "data": {
      "text/plain": [
       "'We will see how to replace words using regular expressions such does not, can’t and so on'"
      ]
     },
     "execution_count": 42,
     "metadata": {},
     "output_type": "execute_result"
    }
   ],
   "source": [
    "import re\n",
    "replacement_patterns = [ \n",
    "(r'won\\'t', 'will not'), \n",
    "(r'can\\'t', 'cannot'), \n",
    "(r'i\\'m', 'i am'), \n",
    "(r'ain\\'t', 'is not'), \n",
    "(r'(\\w+)\\'ll', '\\g<1> will'), \n",
    "(r'(\\w+)n\\'t', '\\g<1> not'), \n",
    "(r'(\\w+)\\'ve', '\\g<1> have'), \n",
    "(r'(\\w+)\\'s', '\\g<1> is'), \n",
    "(r'(\\w+)\\'re', '\\g<1> are'), \n",
    "(r'(\\w+)\\'d', '\\g<1> would')]\n",
    "\n",
    "class RegexReplacer(object):\n",
    "    def __init__(self, patterns=replacement_patterns): \n",
    "        self.patterns = [(re.compile(regex), repl) for (regex, repl)in patterns] \n",
    "    def replace(self, text): \n",
    "        s = text  \n",
    "        for (patterns, repl) in self.patterns: \n",
    "            (s, count) = re.subn(patterns, repl, s) \n",
    "        return s\n",
    "\n",
    "text=\"We'll see how to replace words using regular expressions such doesn't, can’t and so on\"\n",
    "rep = RegexReplacer()\n",
    "rep.replace(text)"
   ]
  }
 ],
 "metadata": {
  "kernelspec": {
   "display_name": "Python 3",
   "language": "python",
   "name": "python3"
  },
  "language_info": {
   "codemirror_mode": {
    "name": "ipython",
    "version": 3
   },
   "file_extension": ".py",
   "mimetype": "text/x-python",
   "name": "python",
   "nbconvert_exporter": "python",
   "pygments_lexer": "ipython3",
   "version": "3.8.8"
  }
 },
 "nbformat": 4,
 "nbformat_minor": 5
}

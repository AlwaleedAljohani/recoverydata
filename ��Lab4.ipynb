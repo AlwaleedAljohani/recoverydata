{
 "cells": [
  {
   "cell_type": "markdown",
   "metadata": {},
   "source": [
    "Porter Stemmer in python nltk package "
   ]
  },
  {
   "cell_type": "code",
   "execution_count": 41,
   "metadata": {},
   "outputs": [
    {
     "name": "stdout",
     "output_type": "stream",
     "text": [
      "understand\n"
     ]
    }
   ],
   "source": [
    "import nltk\n",
    "from  nltk.stem import PorterStemmer\n",
    "\n",
    "porter = PorterStemmer()\n",
    "\n",
    "print(porter.stem(\"understanding\"))"
   ]
  },
  {
   "cell_type": "markdown",
   "metadata": {},
   "source": [
    "Exercise 2: Assume you have a list of words that you want to get their stem, write python script that find stem of each word in the list. "
   ]
  },
  {
   "cell_type": "code",
   "execution_count": 42,
   "metadata": {},
   "outputs": [
    {
     "name": "stdout",
     "output_type": "stream",
     "text": [
      "dogs            -> dog\n",
      "programming     -> program\n",
      "programs        -> program\n",
      "programmed      -> program\n",
      "cakes           -> cake\n",
      "indices         -> indic\n",
      "matrices        -> matric\n"
     ]
    }
   ],
   "source": [
    "import nltk\n",
    "from  nltk.stem import PorterStemmer\n",
    "\n",
    "porter = PorterStemmer()\n",
    "\n",
    "l_words = ['dogs','programming','programs','programmed','cakes','indices','matrices'] \n",
    "for word in l_words :\n",
    "    print (f'{word} \\t -> {porter.stem(word)}'.expandtabs(15))\n"
   ]
  },
  {
   "cell_type": "markdown",
   "metadata": {},
   "source": [
    "Exercise 3: Now, apply Poster Stemmer on the following sentence: "
   ]
  },
  {
   "cell_type": "code",
   "execution_count": 13,
   "metadata": {},
   "outputs": [
    {
     "name": "stdout",
     "output_type": "stream",
     "text": [
      "A stemmer for english oper on the stem cat sh ould identifi such string as cat , catlik , and catti . A stem ming algorithm might also reduc the word fish , fish , an d fisher to the stem fish . the stem need not be a word , for ex ampl the porter algorithm reduc , argu , argu , argu , arg u , and argu to the stem argu .\n"
     ]
    }
   ],
   "source": [
    "import nltk\n",
    "from  nltk.stem import PorterStemmer\n",
    "\n",
    "Text = nltk.word_tokenize(\"\"\"A stemmer for English operating on the stem cat sh\n",
    "ould identify such strings as cats, catlike, and catty. A stem\n",
    "ming algorithm might also reduce the words fishing, fished, an\n",
    "d fisher to the stem fish. The stem need not be a word, for ex\n",
    "ample the Porter algorithm reduces, argue, argued, argues, arg\n",
    "uing, and argus to the stem argu.\"\"\")\n",
    "\n",
    "porter = PorterStemmer()\n",
    "proccesdText= []\n",
    "\n",
    "for item in Text : \n",
    "    stem = porter.stem(item)\n",
    "    proccesdText.append(stem)\n",
    "    \n",
    "proccesdText = \" \". join(proccesdText)\n",
    "print(proccesdText)"
   ]
  },
  {
   "cell_type": "markdown",
   "metadata": {},
   "source": [
    "Exercise 3: Repeat the task presented in exercise 2. Then, compare outputs! Do you find a difference between Porter  Stemmer outputs and Lancaster Stemmer? Why??? "
   ]
  },
  {
   "cell_type": "code",
   "execution_count": 44,
   "metadata": {},
   "outputs": [
    {
     "name": "stdout",
     "output_type": "stream",
     "text": [
      "dogs            -> dog\n",
      "programming     -> program\n",
      "programs        -> program\n",
      "programmed      -> program\n",
      "cakes           -> cak\n",
      "indices         -> ind\n",
      "matrices        -> mat\n"
     ]
    }
   ],
   "source": [
    "import nltk\n",
    "from  nltk.stem import LancasterStemmer\n",
    "\n",
    "Lancaster = LancasterStemmer()\n",
    "\n",
    "l_words = ['dogs','programming','programs','programmed','cakes','indices','matrices'] \n",
    "for word in l_words :\n",
    "    print (f'{word} \\t -> {Lancaster.stem(word)}'.expandtabs(15))"
   ]
  },
  {
   "cell_type": "markdown",
   "metadata": {},
   "source": [
    "Stemming in other Languages "
   ]
  },
  {
   "cell_type": "code",
   "execution_count": 17,
   "metadata": {},
   "outputs": [
    {
     "name": "stdout",
     "output_type": "stream",
     "text": [
      "حرك\n"
     ]
    }
   ],
   "source": [
    "from nltk.stem.isri import ISRIStemmer \n",
    "st = ISRIStemmer() \n",
    "w= 'حركات' \n",
    "print(st.stem(w)) "
   ]
  }
 ],
 "metadata": {
  "kernelspec": {
   "display_name": "Python 3",
   "language": "python",
   "name": "python3"
  },
  "language_info": {
   "codemirror_mode": {
    "name": "ipython",
    "version": 3
   },
   "file_extension": ".py",
   "mimetype": "text/x-python",
   "name": "python",
   "nbconvert_exporter": "python",
   "pygments_lexer": "ipython3",
   "version": "3.7.6"
  }
 },
 "nbformat": 4,
 "nbformat_minor": 4
}

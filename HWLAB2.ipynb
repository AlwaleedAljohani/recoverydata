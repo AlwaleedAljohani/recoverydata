{
 "cells": [
  {
   "cell_type": "code",
   "execution_count": 2,
   "source": [
    "import nltk\r\n",
    "from nltk.corpus import PlaintextCorpusReader\r\n",
    "files = \".*\\.txt\"\r\n",
    "paths = PlaintextCorpusReader(\"path\", files)\r\n",
    "files  = nltk.Text(paths.fileids())\r\n",
    "words = nltk.Text(paths.words())\r\n",
    "print(files)\r\n",
    "print(words)"
   ],
   "outputs": [
    {
     "output_type": "stream",
     "name": "stdout",
     "text": [
      "<Text: alwaleed.txt lab2.txt...>\n",
      "<Text: Hi2 Hi...>\n"
     ]
    }
   ],
   "metadata": {}
  }
 ],
 "metadata": {
  "orig_nbformat": 4,
  "language_info": {
   "name": "python",
   "version": "3.9.7",
   "mimetype": "text/x-python",
   "codemirror_mode": {
    "name": "ipython",
    "version": 3
   },
   "pygments_lexer": "ipython3",
   "nbconvert_exporter": "python",
   "file_extension": ".py"
  },
  "kernelspec": {
   "name": "python3",
   "display_name": "Python 3.9.7 64-bit (windows store)"
  },
  "interpreter": {
   "hash": "6cd374a1488fce0bddf9e493bc25f253a3d01f00058c5828949f49e7175eb6ba"
  }
 },
 "nbformat": 4,
 "nbformat_minor": 2
}
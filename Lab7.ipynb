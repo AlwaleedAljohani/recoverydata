{
 "cells": [
  {
   "cell_type": "code",
   "execution_count": 1,
   "id": "5e89ded1",
   "metadata": {},
   "outputs": [
    {
     "name": "stderr",
     "output_type": "stream",
     "text": [
      "[nltk_data] Downloading package stopwords to\n",
      "[nltk_data]     C:\\Users\\10fal\\AppData\\Roaming\\nltk_data...\n",
      "[nltk_data]   Package stopwords is already up-to-date!\n",
      "[nltk_data] Downloading package punkt to\n",
      "[nltk_data]     C:\\Users\\10fal\\AppData\\Roaming\\nltk_data...\n",
      "[nltk_data]   Package punkt is already up-to-date!\n"
     ]
    },
    {
     "data": {
      "text/plain": [
       "True"
      ]
     },
     "execution_count": 1,
     "metadata": {},
     "output_type": "execute_result"
    }
   ],
   "source": [
    "# import the necessary libraries  \n",
    "import pandas as pd \n",
    "import numpy as np \n",
    "import nltk \n",
    "nltk.download('stopwords') \n",
    "nltk.download('punkt')"
   ]
  },
  {
   "cell_type": "code",
   "execution_count": 3,
   "id": "76d4f248",
   "metadata": {},
   "outputs": [
    {
     "name": "stdout",
     "output_type": "stream",
     "text": [
      "t\n"
     ]
    }
   ],
   "source": [
    "from nltk.corpus import stopwords \n",
    "from nltk.tokenize import word_tokenize \n",
    "from nltk.stem import PorterStemmer \n",
    "import os \n",
    "import string \n",
    "import copy \n",
    "import pickle\n",
    "print(\"t\")"
   ]
  },
  {
   "cell_type": "code",
   "execution_count": 7,
   "id": "cf7602de",
   "metadata": {},
   "outputs": [
    {
     "name": "stdout",
     "output_type": "stream",
     "text": [
      "C:\\Users\\10fal\\Desktop\\20_newsgroups\\20_newsgroups/comp.graphics/\n"
     ]
    }
   ],
   "source": [
    "title = \"comp.graphics\" \n",
    "os.chdir(\"C:/Users/10fal/Desktop/20_newsgroups/20_newsgroups\") \n",
    "paths = [] \n",
    "for  (dirpath, dirnames, filenames)  in os.walk(str(os.getcwd())+'/'+title+'/'): \n",
    "    for i in filenames: \n",
    "        paths.append(str(dirpath)+str(\"/\")+i)\n",
    "        \n",
    "print(dirpath)"
   ]
  },
  {
   "cell_type": "code",
   "execution_count": 8,
   "id": "92de1965",
   "metadata": {},
   "outputs": [
    {
     "data": {
      "text/plain": [
       "'C:\\\\Users\\\\10fal\\\\Desktop\\\\20_newsgroups\\\\20_newsgroups/comp.graphics//37261'"
      ]
     },
     "execution_count": 8,
     "metadata": {},
     "output_type": "execute_result"
    }
   ],
   "source": [
    "paths[0]"
   ]
  },
  {
   "cell_type": "code",
   "execution_count": 9,
   "id": "1afd9094",
   "metadata": {},
   "outputs": [
    {
     "data": {
      "text/plain": [
       "1000"
      ]
     },
     "execution_count": 9,
     "metadata": {},
     "output_type": "execute_result"
    }
   ],
   "source": [
    "len(paths)"
   ]
  },
  {
   "cell_type": "code",
   "execution_count": 12,
   "id": "5ec43d4f",
   "metadata": {},
   "outputs": [],
   "source": [
    "def remove_header(data): \n",
    "    try: \n",
    "        ind = data.index('\\n\\n') \n",
    "        data = data[ind:] \n",
    "    except: \n",
    "        print(\"No Header\") \n",
    "    return data "
   ]
  },
  {
   "cell_type": "code",
   "execution_count": 13,
   "id": "1dfedfd3",
   "metadata": {},
   "outputs": [],
   "source": [
    "def remove_stop_words(data): \n",
    "    stop_words = stopwords.words('english') \n",
    "    words = word_tokenize(str(data)) \n",
    "    new_text = \"\" \n",
    "    for w in words: \n",
    "        if w not in stop_words: \n",
    "            new_text = new_text + \" \" + w \n",
    "    return np.char.strip(new_text)"
   ]
  },
  {
   "cell_type": "code",
   "execution_count": 14,
   "id": "661b80d8",
   "metadata": {},
   "outputs": [],
   "source": [
    "def remove_punctuation(data): \n",
    "    symbols = \"!\\\"#$%&()*+-./:;<=>?@[\\]^_`{|}~\\n\" \n",
    "    for i in range(len(symbols)): \n",
    "        data = np.char.replace(data, symbols[i], ' ') \n",
    "        data = np.char.replace(data, \"  \", \" \") \n",
    "    data = np.char.replace(data, ',', '') \n",
    "    return data"
   ]
  },
  {
   "cell_type": "code",
   "execution_count": 15,
   "id": "a58ea40c",
   "metadata": {},
   "outputs": [],
   "source": [
    "def convert_lower_case(data): \n",
    "    return np.char.lower(data)"
   ]
  },
  {
   "cell_type": "code",
   "execution_count": 16,
   "id": "d4d30933",
   "metadata": {},
   "outputs": [],
   "source": [
    "def stemming(data): \n",
    "    stemmer= PorterStemmer() \n",
    "     \n",
    "    tokens = word_tokenize(str(data)) \n",
    "    new_text = \"\" \n",
    "    for w in tokens: \n",
    "        new_text = new_text + \" \" + stemmer.stem(w) \n",
    "    return np.char.strip(new_text)"
   ]
  },
  {
   "cell_type": "code",
   "execution_count": 17,
   "id": "514110b9",
   "metadata": {},
   "outputs": [],
   "source": [
    "def convert_numbers(data): \n",
    "    data = np.char.replace(data, \"0\", \" zero \") \n",
    "    data = np.char.replace(data, \"1\", \" one \") \n",
    "    data = np.char.replace(data, \"2\", \" two \") \n",
    "    data = np.char.replace(data, \"3\", \" three \") \n",
    "    data = np.char.replace(data, \"4\", \" four \") \n",
    "    data = np.char.replace(data, \"5\", \" five \") \n",
    "    data = np.char.replace(data, \"6\", \" six \") \n",
    "    data = np.char.replace(data, \"7\", \" seven \") \n",
    "    data = np.char.replace(data, \"8\", \" eight \") \n",
    "    data = np.char.replace(data, \"9\", \" nine \") \n",
    "    return data"
   ]
  },
  {
   "cell_type": "code",
   "execution_count": 18,
   "id": "37f57c28",
   "metadata": {},
   "outputs": [],
   "source": [
    "def remove_apostrophe(data): \n",
    "    return np.char.replace(data, \"'\", \"\") "
   ]
  },
  {
   "cell_type": "code",
   "execution_count": 19,
   "id": "5761532f",
   "metadata": {},
   "outputs": [],
   "source": [
    "def remove_single_characters(data): \n",
    "    words = word_tokenize(str(data)) \n",
    "    new_text = \"\" \n",
    "    for w in words: \n",
    "        if len(w) > 1: \n",
    "            new_text = new_text + \" \" + w \n",
    "    return np.char.strip(new_text)"
   ]
  },
  {
   "cell_type": "code",
   "execution_count": 20,
   "id": "8da85869",
   "metadata": {},
   "outputs": [],
   "source": [
    "def preprocess(data, query):\n",
    "    if not query:\n",
    "        data = remove_header(data)\n",
    "        data = convert_lower_case(data)\n",
    "        data = convert_numbers(data)\n",
    "        data = remove_punctuation(data)\n",
    "        data = remove_stop_words(data)\n",
    "        data = remove_apostrophe(data)\n",
    "        data = stemming(data)\n",
    "    return data"
   ]
  },
  {
   "cell_type": "code",
   "execution_count": 28,
   "id": "d8bfd2a8",
   "metadata": {},
   "outputs": [
    {
     "name": "stdout",
     "output_type": "stream",
     "text": [
      "0\n",
      "No Header\n",
      "No Header\n",
      "100\n",
      "200\n",
      "300\n",
      "400\n",
      "500\n",
      "600\n",
      "700\n",
      "800\n",
      "900\n"
     ]
    }
   ],
   "source": [
    "postings = pd.DataFrame()\n",
    "frequency = pd.DataFrame()\n",
    "doc = 0 \n",
    "i = 0\n",
    "for path in paths: \n",
    "    file = open(path, 'r', encoding='cp1250') \n",
    "    text = file.read().strip() \n",
    "    file.close() \n",
    "    preprocessed_text = preprocess(text,0) \n",
    "    \n",
    "    if doc%100 == 0: \n",
    "        print(doc) \n",
    "    tokens = word_tokenize(str(preprocessed_text)) \n",
    "    \n",
    "    pos = 0\n",
    "    for token in tokens: \n",
    "        if token in postings: \n",
    "            p = postings[token][0] \n",
    "            k = [a[0] for a in p] \n",
    "            \n",
    "            if doc in k:\n",
    "                for a in p:\n",
    "                    if a[0] == doc:\n",
    "                        a[1].add(pos)\n",
    "            else:\n",
    "                p.append([doc,{pos}])\n",
    "                frequency[token][0] += 1\n",
    "        else: \n",
    "            postings.insert(value=[[[doc, {pos}]]], loc=0, column=token)\n",
    "            frequency.insert(value=[1], loc=0, column=token)\n",
    "        \n",
    "        pos += 1\n",
    "    doc += 1"
   ]
  },
  {
   "cell_type": "code",
   "execution_count": 29,
   "id": "059082af",
   "metadata": {},
   "outputs": [
    {
     "data": {
      "text/html": [
       "<div>\n",
       "<style scoped>\n",
       "    .dataframe tbody tr th:only-of-type {\n",
       "        vertical-align: middle;\n",
       "    }\n",
       "\n",
       "    .dataframe tbody tr th {\n",
       "        vertical-align: top;\n",
       "    }\n",
       "\n",
       "    .dataframe thead th {\n",
       "        text-align: right;\n",
       "    }\n",
       "</style>\n",
       "<table border=\"1\" class=\"dataframe\">\n",
       "  <thead>\n",
       "    <tr style=\"text-align: right;\">\n",
       "      <th></th>\n",
       "      <th>hasth</th>\n",
       "      <th>buywher</th>\n",
       "      <th>thailand</th>\n",
       "      <th>decor</th>\n",
       "      <th>ginsberg</th>\n",
       "      <th>hide</th>\n",
       "      <th>lettuc</th>\n",
       "      <th>allegori</th>\n",
       "      <th>sandwich</th>\n",
       "      <th>nake</th>\n",
       "      <th>...</th>\n",
       "      <th>june</th>\n",
       "      <th>tuesday</th>\n",
       "      <th>seminar</th>\n",
       "      <th>realiti</th>\n",
       "      <th>virtual</th>\n",
       "      <th>visual</th>\n",
       "      <th>scientif</th>\n",
       "      <th>navi</th>\n",
       "      <th>present</th>\n",
       "      <th>call</th>\n",
       "    </tr>\n",
       "  </thead>\n",
       "  <tbody>\n",
       "    <tr>\n",
       "      <th>0</th>\n",
       "      <td>[[999, {23}]]</td>\n",
       "      <td>[[999, {15}]]</td>\n",
       "      <td>[[999, {7}]]</td>\n",
       "      <td>[[999, {5}]]</td>\n",
       "      <td>[[998, {217}]]</td>\n",
       "      <td>[[998, {214}]]</td>\n",
       "      <td>[[998, {212}]]</td>\n",
       "      <td>[[998, {210}]]</td>\n",
       "      <td>[[998, {209}]]</td>\n",
       "      <td>[[998, {203}]]</td>\n",
       "      <td>...</td>\n",
       "      <td>[[0, {9, 227}], [118, {18}], [239, {232}], [37...</td>\n",
       "      <td>[[0, {8}], [49, {177}], [68, {14}], [153, {18}...</td>\n",
       "      <td>[[0, {7, 107, 43, 45, 123}], [420, {123, 13}],...</td>\n",
       "      <td>[[0, {68, 6, 42, 112, 54}], [96, {610, 8, 526,...</td>\n",
       "      <td>[[0, {67, 5, 41, 111, 53}], [96, {384, 609, 57...</td>\n",
       "      <td>[[0, {66, 4, 40, 110, 52}], [3, {77}], [7, {80...</td>\n",
       "      <td>[[0, {65, 3, 39, 109, 51}], [8, {85}], [43, {2...</td>\n",
       "      <td>[[0, {2, 259, 38, 75, 49, 183, 249, 31, 63}], ...</td>\n",
       "      <td>[[0, {1, 100, 46, 80, 188, 84, 116, 59, 60, 93...</td>\n",
       "      <td>[[0, {0}], [4, {7}], [8, {2}], [32, {45}], [47...</td>\n",
       "    </tr>\n",
       "  </tbody>\n",
       "</table>\n",
       "<p>1 rows × 11301 columns</p>\n",
       "</div>"
      ],
      "text/plain": [
       "           hasth        buywher      thailand         decor        ginsberg  \\\n",
       "0  [[999, {23}]]  [[999, {15}]]  [[999, {7}]]  [[999, {5}]]  [[998, {217}]]   \n",
       "\n",
       "             hide          lettuc        allegori        sandwich  \\\n",
       "0  [[998, {214}]]  [[998, {212}]]  [[998, {210}]]  [[998, {209}]]   \n",
       "\n",
       "             nake  ...                                               june  \\\n",
       "0  [[998, {203}]]  ...  [[0, {9, 227}], [118, {18}], [239, {232}], [37...   \n",
       "\n",
       "                                             tuesday  \\\n",
       "0  [[0, {8}], [49, {177}], [68, {14}], [153, {18}...   \n",
       "\n",
       "                                             seminar  \\\n",
       "0  [[0, {7, 107, 43, 45, 123}], [420, {123, 13}],...   \n",
       "\n",
       "                                             realiti  \\\n",
       "0  [[0, {68, 6, 42, 112, 54}], [96, {610, 8, 526,...   \n",
       "\n",
       "                                             virtual  \\\n",
       "0  [[0, {67, 5, 41, 111, 53}], [96, {384, 609, 57...   \n",
       "\n",
       "                                              visual  \\\n",
       "0  [[0, {66, 4, 40, 110, 52}], [3, {77}], [7, {80...   \n",
       "\n",
       "                                            scientif  \\\n",
       "0  [[0, {65, 3, 39, 109, 51}], [8, {85}], [43, {2...   \n",
       "\n",
       "                                                navi  \\\n",
       "0  [[0, {2, 259, 38, 75, 49, 183, 249, 31, 63}], ...   \n",
       "\n",
       "                                             present  \\\n",
       "0  [[0, {1, 100, 46, 80, 188, 84, 116, 59, 60, 93...   \n",
       "\n",
       "                                                call  \n",
       "0  [[0, {0}], [4, {7}], [8, {2}], [32, {45}], [47...  \n",
       "\n",
       "[1 rows x 11301 columns]"
      ]
     },
     "execution_count": 29,
     "metadata": {},
     "output_type": "execute_result"
    }
   ],
   "source": [
    "postings"
   ]
  },
  {
   "cell_type": "code",
   "execution_count": 30,
   "id": "84c4f924",
   "metadata": {},
   "outputs": [],
   "source": [
    "postings.to_pickle(title + \"_positional_postings\") "
   ]
  },
  {
   "cell_type": "code",
   "execution_count": 31,
   "id": "f17bc72e",
   "metadata": {},
   "outputs": [],
   "source": [
    "frequency.to_pickle(title + \"_positional_frequency\")"
   ]
  },
  {
   "cell_type": "code",
   "execution_count": 36,
   "id": "e483d381",
   "metadata": {},
   "outputs": [],
   "source": [
    "def get_word_postings(word):\n",
    "    preprocessed_word = str(preprocess(word,True))\n",
    "    print(preprocessed_word)\n",
    "    print(\"Frequency: \",frequency[preprocessed_word][0])\n",
    "    print(\"Postings List: \",postings[preprocessed_word][0])\n",
    "\n",
    "def get_positions(posting_values,doc):\n",
    "    for posting_values in posting_values:\n",
    "        if posting_values[0] == doc:\n",
    "            return posting_values[1]\n",
    "    return {}\n",
    "\n",
    "def gen_init_set_matchings(word):\n",
    "    init = []\n",
    "    word_postings = postings[word][0]\n",
    "    for word_posting in word_postings:\n",
    "        for positions in word_postings[1]:\n",
    "            init.append((word_posting[0],positions))\n",
    "    return init\n",
    "\n",
    "def match_positional_index(init,b):\n",
    "    matched_docs = []\n",
    "    for p in init:\n",
    "        doc = p[0]\n",
    "        pos = p[1]\n",
    "        count = 0\n",
    "        for k in b:\n",
    "            pos = pos+1\n",
    "            k_pos = postings[k][0]\n",
    "            docs_list = [z[0]for z in k_pos]\n",
    "            if doc in docs_list:\n",
    "                doc_positions = get_positions(k_pos,doc)\n",
    "                if pos in doc_positions:\n",
    "                    count+=1\n",
    "                else:\n",
    "                    count+=1\n",
    "                    break\n",
    "            if count == len(b):\n",
    "                matched_docs.append(p[0])\n",
    "    return set(matched_docs)"
   ]
  },
  {
   "cell_type": "code",
   "execution_count": 37,
   "id": "c9611ae9",
   "metadata": {},
   "outputs": [],
   "source": [
    "def run_query(query):\n",
    "    processed_query = preprocess(query,True)\n",
    "    print(processed_query)\n",
    "    query_tokens = word_tokenize(str(processed_query))\n",
    "    print(query_tokens)\n",
    "\n",
    "    if len(query_tokens)==1:\n",
    "        print(\"Total Document Mathces\",[a[0]for a in postings[query][0]])\n",
    "        return [a[0]for a in postings[query][0]]\n",
    "    \n",
    "    init_word = query_tokens[0]\n",
    "    init_matches = gen_init_set_matchings(init_word)\n",
    "\n",
    "    query_tokens.pop(0)\n",
    "    total_matched_docs = match_positional_index(init_matches, query_tokens)\n",
    "    print(\"Total Document Matches:\",total_matched_docs)\n",
    "    return total_matched_docs"
   ]
  },
  {
   "cell_type": "code",
   "execution_count": 44,
   "id": "57074d08",
   "metadata": {},
   "outputs": [
    {
     "name": "stdout",
     "output_type": "stream",
     "text": [
      "call\n",
      "Frequency:  115\n",
      "Postings List:  [[0, {0}], [4, {7}], [8, {2}], [32, {45}], [47, {11}], [60, {1}], [64, {3}], [65, {14}], [68, {70, 151}], [87, {240, 284}], [90, {80}], [91, {47}], [97, {41, 85}], [98, {232, 338}], [108, {30}], [120, {94}], [126, {8}], [128, {49, 3}], [132, {178}], [138, {64, 101}], [150, {66}], [172, {4}], [178, {105}], [187, {81}], [196, {169}], [205, {64}], [210, {168}], [214, {4648, 3210, 117, 3257, 5468, 414, 286}], [215, {4738, 3846, 775, 4743, 5768, 4747, 909, 6928, 151, 1452, 7216, 187, 4542, 4553, 5321, 6347, 2003, 875, 6768, 6004, 5751, 7039}], [216, {901, 8263, 8233, 5933, 5649, 8179, 1076, 6262, 8407, 1208, 7996}], [218, {43}], [239, {6}], [242, {4458, 3439, 4048, 1562, 6363, 3421}], [263, {10}], [295, {101}], [307, {47}], [318, {84}], [322, {74}], [344, {0}], [347, {43}], [368, {32}], [375, {209, 265}], [383, {69}], [390, {101}], [396, {19}], [401, {57}], [419, {48}], [422, {3}], [433, {41}], [447, {2}], [450, {45}], [453, {19}], [458, {9}], [461, {11}], [467, {20}], [469, {12}], [484, {10, 18}], [485, {34}], [488, {80, 52}], [496, {1, 139}], [500, {162}], [504, {1, 10}], [548, {43}], [569, {17}], [581, {118}], [585, {32, 41}], [589, {3}], [600, {26}], [616, {2648, 3322, 2684, 100}], [622, {25}], [630, {26}], [648, {35}], [660, {61}], [662, {156, 47}], [680, {21}], [686, {664}], [689, {896, 8353, 6053, 5769, 8299, 6382, 1071, 8527, 1203, 8116, 8383}], [690, {3306, 5517, 117, 4697, 3259, 414, 286}], [691, {4738, 3846, 775, 4743, 5768, 4747, 909, 6928, 151, 1452, 7216, 187, 4542, 4553, 5321, 6347, 2003, 875, 6768, 6004, 5751, 7039}], [693, {79}], [699, {688}], [705, {92}], [709, {2}], [716, {28, 36}], [734, {1, 10}], [735, {13}], [736, {329}], [747, {69}], [767, {35, 4}], [768, {6}], [771, {268}], [776, {0}], [795, {67}], [797, {74}], [802, {34}], [808, {144}], [813, {557}], [814, {8}], [825, {52}], [869, {182, 94}], [873, {30}], [875, {148}], [884, {116}], [894, {23}], [903, {29}], [911, {85}], [915, {4522, 4112, 3473, 6427, 3455}], [925, {283, 103}], [941, {16}], [945, {75}], [954, {3427, 6442, 4084, 3445, 4537}], [967, {0}], [987, {138, 99, 37}], [989, {133, 174}], [997, {3}]]\n"
     ]
    }
   ],
   "source": [
    "get_word_postings(\"call\")"
   ]
  },
  {
   "cell_type": "code",
   "execution_count": 46,
   "id": "c2da9339",
   "metadata": {},
   "outputs": [
    {
     "name": "stdout",
     "output_type": "stream",
     "text": [
      "is to\n",
      "['is', 'to']\n"
     ]
    },
    {
     "ename": "KeyError",
     "evalue": "'is'",
     "output_type": "error",
     "traceback": [
      "\u001b[1;31m---------------------------------------------------------------------------\u001b[0m",
      "\u001b[1;31mKeyError\u001b[0m                                  Traceback (most recent call last)",
      "\u001b[1;32m~\\anaconda3\\lib\\site-packages\\pandas\\core\\indexes\\base.py\u001b[0m in \u001b[0;36mget_loc\u001b[1;34m(self, key, method, tolerance)\u001b[0m\n\u001b[0;32m   3079\u001b[0m             \u001b[1;32mtry\u001b[0m\u001b[1;33m:\u001b[0m\u001b[1;33m\u001b[0m\u001b[1;33m\u001b[0m\u001b[0m\n\u001b[1;32m-> 3080\u001b[1;33m                 \u001b[1;32mreturn\u001b[0m \u001b[0mself\u001b[0m\u001b[1;33m.\u001b[0m\u001b[0m_engine\u001b[0m\u001b[1;33m.\u001b[0m\u001b[0mget_loc\u001b[0m\u001b[1;33m(\u001b[0m\u001b[0mcasted_key\u001b[0m\u001b[1;33m)\u001b[0m\u001b[1;33m\u001b[0m\u001b[1;33m\u001b[0m\u001b[0m\n\u001b[0m\u001b[0;32m   3081\u001b[0m             \u001b[1;32mexcept\u001b[0m \u001b[0mKeyError\u001b[0m \u001b[1;32mas\u001b[0m \u001b[0merr\u001b[0m\u001b[1;33m:\u001b[0m\u001b[1;33m\u001b[0m\u001b[1;33m\u001b[0m\u001b[0m\n",
      "\u001b[1;32mpandas\\_libs\\index.pyx\u001b[0m in \u001b[0;36mpandas._libs.index.IndexEngine.get_loc\u001b[1;34m()\u001b[0m\n",
      "\u001b[1;32mpandas\\_libs\\index.pyx\u001b[0m in \u001b[0;36mpandas._libs.index.IndexEngine.get_loc\u001b[1;34m()\u001b[0m\n",
      "\u001b[1;32mpandas\\_libs\\hashtable_class_helper.pxi\u001b[0m in \u001b[0;36mpandas._libs.hashtable.PyObjectHashTable.get_item\u001b[1;34m()\u001b[0m\n",
      "\u001b[1;32mpandas\\_libs\\hashtable_class_helper.pxi\u001b[0m in \u001b[0;36mpandas._libs.hashtable.PyObjectHashTable.get_item\u001b[1;34m()\u001b[0m\n",
      "\u001b[1;31mKeyError\u001b[0m: 'is'",
      "\nThe above exception was the direct cause of the following exception:\n",
      "\u001b[1;31mKeyError\u001b[0m                                  Traceback (most recent call last)",
      "\u001b[1;32m<ipython-input-46-9daeee5a7fd6>\u001b[0m in \u001b[0;36m<module>\u001b[1;34m\u001b[0m\n\u001b[0;32m      1\u001b[0m \u001b[0mquery\u001b[0m \u001b[1;33m=\u001b[0m \u001b[1;34m\"is to\"\u001b[0m\u001b[1;33m\u001b[0m\u001b[1;33m\u001b[0m\u001b[0m\n\u001b[1;32m----> 2\u001b[1;33m \u001b[0mlist\u001b[0m \u001b[1;33m=\u001b[0m \u001b[0mrun_query\u001b[0m\u001b[1;33m(\u001b[0m\u001b[0mquery\u001b[0m\u001b[1;33m)\u001b[0m\u001b[1;33m\u001b[0m\u001b[1;33m\u001b[0m\u001b[0m\n\u001b[0m",
      "\u001b[1;32m<ipython-input-37-ae938d78aefa>\u001b[0m in \u001b[0;36mrun_query\u001b[1;34m(query)\u001b[0m\n\u001b[0;32m     10\u001b[0m \u001b[1;33m\u001b[0m\u001b[0m\n\u001b[0;32m     11\u001b[0m     \u001b[0minit_word\u001b[0m \u001b[1;33m=\u001b[0m \u001b[0mquery_tokens\u001b[0m\u001b[1;33m[\u001b[0m\u001b[1;36m0\u001b[0m\u001b[1;33m]\u001b[0m\u001b[1;33m\u001b[0m\u001b[1;33m\u001b[0m\u001b[0m\n\u001b[1;32m---> 12\u001b[1;33m     \u001b[0minit_matches\u001b[0m \u001b[1;33m=\u001b[0m \u001b[0mgen_init_set_matchings\u001b[0m\u001b[1;33m(\u001b[0m\u001b[0minit_word\u001b[0m\u001b[1;33m)\u001b[0m\u001b[1;33m\u001b[0m\u001b[1;33m\u001b[0m\u001b[0m\n\u001b[0m\u001b[0;32m     13\u001b[0m \u001b[1;33m\u001b[0m\u001b[0m\n\u001b[0;32m     14\u001b[0m     \u001b[0mquery_tokens\u001b[0m\u001b[1;33m.\u001b[0m\u001b[0mpop\u001b[0m\u001b[1;33m(\u001b[0m\u001b[1;36m0\u001b[0m\u001b[1;33m)\u001b[0m\u001b[1;33m\u001b[0m\u001b[1;33m\u001b[0m\u001b[0m\n",
      "\u001b[1;32m<ipython-input-36-328d643a9cf7>\u001b[0m in \u001b[0;36mgen_init_set_matchings\u001b[1;34m(word)\u001b[0m\n\u001b[0;32m     13\u001b[0m \u001b[1;32mdef\u001b[0m \u001b[0mgen_init_set_matchings\u001b[0m\u001b[1;33m(\u001b[0m\u001b[0mword\u001b[0m\u001b[1;33m)\u001b[0m\u001b[1;33m:\u001b[0m\u001b[1;33m\u001b[0m\u001b[1;33m\u001b[0m\u001b[0m\n\u001b[0;32m     14\u001b[0m     \u001b[0minit\u001b[0m \u001b[1;33m=\u001b[0m \u001b[1;33m[\u001b[0m\u001b[1;33m]\u001b[0m\u001b[1;33m\u001b[0m\u001b[1;33m\u001b[0m\u001b[0m\n\u001b[1;32m---> 15\u001b[1;33m     \u001b[0mword_postings\u001b[0m \u001b[1;33m=\u001b[0m \u001b[0mpostings\u001b[0m\u001b[1;33m[\u001b[0m\u001b[0mword\u001b[0m\u001b[1;33m]\u001b[0m\u001b[1;33m[\u001b[0m\u001b[1;36m0\u001b[0m\u001b[1;33m]\u001b[0m\u001b[1;33m\u001b[0m\u001b[1;33m\u001b[0m\u001b[0m\n\u001b[0m\u001b[0;32m     16\u001b[0m     \u001b[1;32mfor\u001b[0m \u001b[0mword_posting\u001b[0m \u001b[1;32min\u001b[0m \u001b[0mword_postings\u001b[0m\u001b[1;33m:\u001b[0m\u001b[1;33m\u001b[0m\u001b[1;33m\u001b[0m\u001b[0m\n\u001b[0;32m     17\u001b[0m         \u001b[1;32mfor\u001b[0m \u001b[0mpositions\u001b[0m \u001b[1;32min\u001b[0m \u001b[0mword_postings\u001b[0m\u001b[1;33m[\u001b[0m\u001b[1;36m1\u001b[0m\u001b[1;33m]\u001b[0m\u001b[1;33m:\u001b[0m\u001b[1;33m\u001b[0m\u001b[1;33m\u001b[0m\u001b[0m\n",
      "\u001b[1;32m~\\anaconda3\\lib\\site-packages\\pandas\\core\\frame.py\u001b[0m in \u001b[0;36m__getitem__\u001b[1;34m(self, key)\u001b[0m\n\u001b[0;32m   3022\u001b[0m             \u001b[1;32mif\u001b[0m \u001b[0mself\u001b[0m\u001b[1;33m.\u001b[0m\u001b[0mcolumns\u001b[0m\u001b[1;33m.\u001b[0m\u001b[0mnlevels\u001b[0m \u001b[1;33m>\u001b[0m \u001b[1;36m1\u001b[0m\u001b[1;33m:\u001b[0m\u001b[1;33m\u001b[0m\u001b[1;33m\u001b[0m\u001b[0m\n\u001b[0;32m   3023\u001b[0m                 \u001b[1;32mreturn\u001b[0m \u001b[0mself\u001b[0m\u001b[1;33m.\u001b[0m\u001b[0m_getitem_multilevel\u001b[0m\u001b[1;33m(\u001b[0m\u001b[0mkey\u001b[0m\u001b[1;33m)\u001b[0m\u001b[1;33m\u001b[0m\u001b[1;33m\u001b[0m\u001b[0m\n\u001b[1;32m-> 3024\u001b[1;33m             \u001b[0mindexer\u001b[0m \u001b[1;33m=\u001b[0m \u001b[0mself\u001b[0m\u001b[1;33m.\u001b[0m\u001b[0mcolumns\u001b[0m\u001b[1;33m.\u001b[0m\u001b[0mget_loc\u001b[0m\u001b[1;33m(\u001b[0m\u001b[0mkey\u001b[0m\u001b[1;33m)\u001b[0m\u001b[1;33m\u001b[0m\u001b[1;33m\u001b[0m\u001b[0m\n\u001b[0m\u001b[0;32m   3025\u001b[0m             \u001b[1;32mif\u001b[0m \u001b[0mis_integer\u001b[0m\u001b[1;33m(\u001b[0m\u001b[0mindexer\u001b[0m\u001b[1;33m)\u001b[0m\u001b[1;33m:\u001b[0m\u001b[1;33m\u001b[0m\u001b[1;33m\u001b[0m\u001b[0m\n\u001b[0;32m   3026\u001b[0m                 \u001b[0mindexer\u001b[0m \u001b[1;33m=\u001b[0m \u001b[1;33m[\u001b[0m\u001b[0mindexer\u001b[0m\u001b[1;33m]\u001b[0m\u001b[1;33m\u001b[0m\u001b[1;33m\u001b[0m\u001b[0m\n",
      "\u001b[1;32m~\\anaconda3\\lib\\site-packages\\pandas\\core\\indexes\\base.py\u001b[0m in \u001b[0;36mget_loc\u001b[1;34m(self, key, method, tolerance)\u001b[0m\n\u001b[0;32m   3080\u001b[0m                 \u001b[1;32mreturn\u001b[0m \u001b[0mself\u001b[0m\u001b[1;33m.\u001b[0m\u001b[0m_engine\u001b[0m\u001b[1;33m.\u001b[0m\u001b[0mget_loc\u001b[0m\u001b[1;33m(\u001b[0m\u001b[0mcasted_key\u001b[0m\u001b[1;33m)\u001b[0m\u001b[1;33m\u001b[0m\u001b[1;33m\u001b[0m\u001b[0m\n\u001b[0;32m   3081\u001b[0m             \u001b[1;32mexcept\u001b[0m \u001b[0mKeyError\u001b[0m \u001b[1;32mas\u001b[0m \u001b[0merr\u001b[0m\u001b[1;33m:\u001b[0m\u001b[1;33m\u001b[0m\u001b[1;33m\u001b[0m\u001b[0m\n\u001b[1;32m-> 3082\u001b[1;33m                 \u001b[1;32mraise\u001b[0m \u001b[0mKeyError\u001b[0m\u001b[1;33m(\u001b[0m\u001b[0mkey\u001b[0m\u001b[1;33m)\u001b[0m \u001b[1;32mfrom\u001b[0m \u001b[0merr\u001b[0m\u001b[1;33m\u001b[0m\u001b[1;33m\u001b[0m\u001b[0m\n\u001b[0m\u001b[0;32m   3083\u001b[0m \u001b[1;33m\u001b[0m\u001b[0m\n\u001b[0;32m   3084\u001b[0m         \u001b[1;32mif\u001b[0m \u001b[0mtolerance\u001b[0m \u001b[1;32mis\u001b[0m \u001b[1;32mnot\u001b[0m \u001b[1;32mNone\u001b[0m\u001b[1;33m:\u001b[0m\u001b[1;33m\u001b[0m\u001b[1;33m\u001b[0m\u001b[0m\n",
      "\u001b[1;31mKeyError\u001b[0m: 'is'"
     ]
    }
   ],
   "source": [
    "query = \"is to\"\n",
    "list = run_query(query)"
   ]
  },
  {
   "cell_type": "code",
   "execution_count": null,
   "id": "2c6f3569",
   "metadata": {},
   "outputs": [],
   "source": []
  }
 ],
 "metadata": {
  "kernelspec": {
   "display_name": "Python 3",
   "language": "python",
   "name": "python3"
  },
  "language_info": {
   "codemirror_mode": {
    "name": "ipython",
    "version": 3
   },
   "file_extension": ".py",
   "mimetype": "text/x-python",
   "name": "python",
   "nbconvert_exporter": "python",
   "pygments_lexer": "ipython3",
   "version": "3.8.8"
  }
 },
 "nbformat": 4,
 "nbformat_minor": 5
}
